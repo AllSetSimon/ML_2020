{
 "cells": [
  {
   "cell_type": "code",
   "execution_count": 6,
   "metadata": {},
   "outputs": [],
   "source": [
    "from sklearn.linear_model import LinearRegression\n",
    "import pandas as pd\n",
    "import numpy as np\n",
    "import matplotlib.pyplot as plt"
   ]
  },
  {
   "cell_type": "code",
   "execution_count": 12,
   "metadata": {},
   "outputs": [
    {
     "data": {
      "text/html": [
       "<div>\n",
       "<style scoped>\n",
       "    .dataframe tbody tr th:only-of-type {\n",
       "        vertical-align: middle;\n",
       "    }\n",
       "\n",
       "    .dataframe tbody tr th {\n",
       "        vertical-align: top;\n",
       "    }\n",
       "\n",
       "    .dataframe thead th {\n",
       "        text-align: right;\n",
       "    }\n",
       "</style>\n",
       "<table border=\"1\" class=\"dataframe\">\n",
       "  <thead>\n",
       "    <tr style=\"text-align: right;\">\n",
       "      <th></th>\n",
       "      <th>height</th>\n",
       "      <th>weight</th>\n",
       "    </tr>\n",
       "  </thead>\n",
       "  <tbody>\n",
       "    <tr>\n",
       "      <th>0</th>\n",
       "      <td>65.78</td>\n",
       "      <td>112.99</td>\n",
       "    </tr>\n",
       "    <tr>\n",
       "      <th>1</th>\n",
       "      <td>71.52</td>\n",
       "      <td>136.49</td>\n",
       "    </tr>\n",
       "    <tr>\n",
       "      <th>2</th>\n",
       "      <td>69.40</td>\n",
       "      <td>153.03</td>\n",
       "    </tr>\n",
       "    <tr>\n",
       "      <th>3</th>\n",
       "      <td>68.22</td>\n",
       "      <td>142.34</td>\n",
       "    </tr>\n",
       "    <tr>\n",
       "      <th>4</th>\n",
       "      <td>67.79</td>\n",
       "      <td>144.30</td>\n",
       "    </tr>\n",
       "  </tbody>\n",
       "</table>\n",
       "</div>"
      ],
      "text/plain": [
       "   height  weight\n",
       "0   65.78  112.99\n",
       "1   71.52  136.49\n",
       "2   69.40  153.03\n",
       "3   68.22  142.34\n",
       "4   67.79  144.30"
      ]
     },
     "execution_count": 12,
     "metadata": {},
     "output_type": "execute_result"
    }
   ],
   "source": [
    "df = pd.read_csv(\"./heights.csv\")\n",
    "df.head()"
   ]
  },
  {
   "cell_type": "code",
   "execution_count": 20,
   "metadata": {},
   "outputs": [
    {
     "data": {
      "text/plain": [
       "0      65.78\n",
       "1      71.52\n",
       "2      69.40\n",
       "3      68.22\n",
       "4      67.79\n",
       "       ...  \n",
       "195    65.80\n",
       "196    66.11\n",
       "197    68.24\n",
       "198    68.02\n",
       "199    71.39\n",
       "Name: height, Length: 200, dtype: float64"
      ]
     },
     "execution_count": 20,
     "metadata": {},
     "output_type": "execute_result"
    }
   ],
   "source": [
    "X = df[\"height\"]\n",
    "X"
   ]
  },
  {
   "cell_type": "code",
   "execution_count": 17,
   "metadata": {},
   "outputs": [
    {
     "data": {
      "text/plain": [
       "0      112.99\n",
       "1      136.49\n",
       "2      153.03\n",
       "3      142.34\n",
       "4      144.30\n",
       "        ...  \n",
       "195    120.84\n",
       "196    115.78\n",
       "197    128.30\n",
       "198    127.47\n",
       "199    127.88\n",
       "Name: weight, Length: 200, dtype: float64"
      ]
     },
     "execution_count": 17,
     "metadata": {},
     "output_type": "execute_result"
    }
   ],
   "source": [
    "y = df[\"weight\"]\n",
    "y"
   ]
  },
  {
   "cell_type": "code",
   "execution_count": 19,
   "metadata": {},
   "outputs": [
    {
     "data": {
      "text/plain": [
       "dtype('float64')"
      ]
     },
     "execution_count": 19,
     "metadata": {},
     "output_type": "execute_result"
    }
   ],
   "source": [
    "y.dtype"
   ]
  },
  {
   "cell_type": "code",
   "execution_count": 21,
   "metadata": {},
   "outputs": [
    {
     "data": {
      "image/png": "[encoded data removed]",
      "text/plain": [
       "<Figure size 432x288 with 1 Axes>"
      ]
     },
     "metadata": {
      "needs_background": "light"
     },
     "output_type": "display_data"
    }
   ],
   "source": [
    "plt.plot(X,y,'o')\n",
    "plt.show()"
   ]
  },
  {
   "cell_type": "code",
   "execution_count": 24,
   "metadata": {},
   "outputs": [
    {
     "data": {
      "text/plain": [
       "array([[65.78],\n",
       "       [71.52],\n",
       "       [69.4 ],\n",
       "       [68.22],\n",
       "       [67.79],\n",
       "       [68.7 ],\n",
       "       [69.8 ],\n",
       "       [70.01],\n",
       "       [67.9 ],\n",
       "       [66.78],\n",
       "       [66.49],\n",
       "       [67.62],\n",
       "       [68.3 ],\n",
       "       [67.12],\n",
       "       [68.28],\n",
       "       [71.09],\n",
       "       [66.46],\n",
       "       [68.65],\n",
       "       [71.23],\n",
       "       [67.13],\n",
       "       [67.83],\n",
       "       [68.88],\n",
       "       [63.48],\n",
       "       [68.42],\n",
       "       [67.63],\n",
       "       [67.21],\n",
       "       [70.84],\n",
       "       [67.49],\n",
       "       [66.53],\n",
       "       [65.44],\n",
       "       [69.52],\n",
       "       [65.81],\n",
       "       [67.82],\n",
       "       [70.6 ],\n",
       "       [71.8 ],\n",
       "       [69.21],\n",
       "       [66.8 ],\n",
       "       [67.66],\n",
       "       [67.81],\n",
       "       [64.05],\n",
       "       [68.57],\n",
       "       [65.18],\n",
       "       [69.66],\n",
       "       [67.97],\n",
       "       [65.98],\n",
       "       [68.67],\n",
       "       [66.88],\n",
       "       [67.7 ],\n",
       "       [69.82],\n",
       "       [69.09],\n",
       "       [69.91],\n",
       "       [67.33],\n",
       "       [70.27],\n",
       "       [69.1 ],\n",
       "       [65.38],\n",
       "       [70.18],\n",
       "       [70.41],\n",
       "       [66.54],\n",
       "       [66.36],\n",
       "       [67.54],\n",
       "       [66.5 ],\n",
       "       [69.  ],\n",
       "       [68.3 ],\n",
       "       [67.01],\n",
       "       [70.81],\n",
       "       [68.22],\n",
       "       [69.06],\n",
       "       [67.73],\n",
       "       [67.22],\n",
       "       [67.37],\n",
       "       [65.27],\n",
       "       [70.84],\n",
       "       [69.92],\n",
       "       [64.29],\n",
       "       [68.25],\n",
       "       [66.36],\n",
       "       [68.36],\n",
       "       [65.48],\n",
       "       [69.72],\n",
       "       [67.73],\n",
       "       [68.64],\n",
       "       [66.78],\n",
       "       [70.05],\n",
       "       [66.28],\n",
       "       [69.2 ],\n",
       "       [69.13],\n",
       "       [67.36],\n",
       "       [70.09],\n",
       "       [70.18],\n",
       "       [68.23],\n",
       "       [68.13],\n",
       "       [70.24],\n",
       "       [71.49],\n",
       "       [69.2 ],\n",
       "       [70.06],\n",
       "       [70.56],\n",
       "       [66.29],\n",
       "       [63.43],\n",
       "       [66.77],\n",
       "       [68.89],\n",
       "       [64.87],\n",
       "       [67.09],\n",
       "       [68.35],\n",
       "       [65.61],\n",
       "       [67.76],\n",
       "       [68.02],\n",
       "       [67.66],\n",
       "       [66.31],\n",
       "       [69.44],\n",
       "       [63.84],\n",
       "       [67.72],\n",
       "       [70.05],\n",
       "       [70.19],\n",
       "       [65.95],\n",
       "       [70.01],\n",
       "       [68.61],\n",
       "       [68.81],\n",
       "       [69.76],\n",
       "       [65.46],\n",
       "       [68.83],\n",
       "       [65.8 ],\n",
       "       [67.21],\n",
       "       [69.42],\n",
       "       [68.94],\n",
       "       [67.94],\n",
       "       [65.63],\n",
       "       [66.5 ],\n",
       "       [67.93],\n",
       "       [68.89],\n",
       "       [70.24],\n",
       "       [68.27],\n",
       "       [71.23],\n",
       "       [69.1 ],\n",
       "       [64.4 ],\n",
       "       [71.1 ],\n",
       "       [68.22],\n",
       "       [65.92],\n",
       "       [67.44],\n",
       "       [73.9 ],\n",
       "       [69.98],\n",
       "       [69.52],\n",
       "       [65.18],\n",
       "       [68.01],\n",
       "       [68.34],\n",
       "       [65.18],\n",
       "       [68.26],\n",
       "       [68.57],\n",
       "       [64.5 ],\n",
       "       [68.71],\n",
       "       [68.89],\n",
       "       [69.54],\n",
       "       [67.4 ],\n",
       "       [66.48],\n",
       "       [66.01],\n",
       "       [72.44],\n",
       "       [64.13],\n",
       "       [70.98],\n",
       "       [67.5 ],\n",
       "       [72.02],\n",
       "       [65.31],\n",
       "       [67.08],\n",
       "       [64.39],\n",
       "       [69.37],\n",
       "       [68.38],\n",
       "       [65.31],\n",
       "       [67.14],\n",
       "       [68.39],\n",
       "       [66.29],\n",
       "       [67.19],\n",
       "       [65.99],\n",
       "       [69.43],\n",
       "       [67.97],\n",
       "       [67.76],\n",
       "       [65.28],\n",
       "       [73.83],\n",
       "       [66.81],\n",
       "       [66.89],\n",
       "       [65.74],\n",
       "       [65.98],\n",
       "       [66.58],\n",
       "       [67.11],\n",
       "       [65.87],\n",
       "       [66.78],\n",
       "       [68.74],\n",
       "       [66.23],\n",
       "       [65.96],\n",
       "       [68.58],\n",
       "       [66.59],\n",
       "       [66.97],\n",
       "       [68.08],\n",
       "       [70.19],\n",
       "       [65.52],\n",
       "       [67.46],\n",
       "       [67.41],\n",
       "       [69.66],\n",
       "       [65.8 ],\n",
       "       [66.11],\n",
       "       [68.24],\n",
       "       [68.02],\n",
       "       [71.39]])"
      ]
     },
     "execution_count": 24,
     "metadata": {},
     "output_type": "execute_result"
    }
   ],
   "source": [
    "X.values.reshape(-1,1)"
   ]
  },
  {
   "cell_type": "code",
   "execution_count": 27,
   "metadata": {},
   "outputs": [
    {
     "data": {
      "text/plain": [
       "LinearRegression()"
      ]
     },
     "execution_count": 27,
     "metadata": {},
     "output_type": "execute_result"
    }
   ],
   "source": [
    "line_fitter = LinearRegression()\n",
    "line_fitter.fit(X.values.reshape(-1,1),y)"
   ]
  },
  {
   "cell_type": "code",
   "execution_count": 28,
   "metadata": {},
   "outputs": [
    {
     "data": {
      "text/plain": [
       "array([134.2596226])"
      ]
     },
     "execution_count": 28,
     "metadata": {},
     "output_type": "execute_result"
    }
   ],
   "source": [
    "line_fitter.predict([[70]])"
   ]
  },
  {
   "cell_type": "code",
   "execution_count": 29,
   "metadata": {},
   "outputs": [
    {
     "data": {
      "text/plain": [
       "array([3.43267613])"
      ]
     },
     "execution_count": 29,
     "metadata": {},
     "output_type": "execute_result"
    }
   ],
   "source": [
    "line_fitter.coef_"
   ]
  },
  {
   "cell_type": "code",
   "execution_count": 31,
   "metadata": {},
   "outputs": [
    {
     "data": {
      "text/plain": [
       "-106.02770644878132"
      ]
     },
     "execution_count": 31,
     "metadata": {},
     "output_type": "execute_result"
    }
   ],
   "source": [
    "line_fitter.intercept_"
   ]
  },
  {
   "cell_type": "code",
   "execution_count": 38,
   "metadata": {},
   "outputs": [
    {
     "data": {
      "image/png": "[encoded data removed]",
      "text/plain": [
       "<Figure size 432x288 with 1 Axes>"
      ]
     },
     "metadata": {
      "needs_background": "light"
     },
     "output_type": "display_data"
    }
   ],
   "source": [
    "plt.plot(X,y,'o')\n",
    "plt.plot(X,line_fitter.predict(X.values.reshape(-1,1)))\n",
    "plt.show()"
   ]
  },
  {
   "cell_type": "code",
   "execution_count": null,
   "metadata": {},
   "outputs": [],
   "source": []
  }
 ],
 "metadata": {
  "kernelspec": {
   "display_name": "Python 3",
   "language": "python",
   "name": "python3"
  },
  "language_info": {
   "codemirror_mode": {
    "name": "ipython",
    "version": 3
   },
   "file_extension": ".py",
   "mimetype": "text/x-python",
   "name": "python",
   "nbconvert_exporter": "python",
   "pygments_lexer": "ipython3",
   "version": "3.8.3"
  }
 },
 "nbformat": 4,
 "nbformat_minor": 4
}
